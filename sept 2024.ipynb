{
 "cells": [
  {
   "metadata": {
    "ExecuteTime": {
     "end_time": "2024-10-11T15:12:05.623991Z",
     "start_time": "2024-10-11T15:12:03.157336Z"
    }
   },
   "cell_type": "code",
   "source": [
    "from random import randint\n",
    "import operator\n",
    "from dataclasses import dataclass\n",
    "\n",
    "@dataclass\n",
    "class Menu_Item:\n",
    "    desc: str\n",
    "    symbol: str\n",
    "    func: object\n",
    "    params: dict\n",
    "\n",
    "def get_num(msd:str, minimum: int = 0, maximum:int = 10) -> int:\n",
    "    while True:\n",
    "        response = input(msg)\n",
    "        try:\n",
    "            num = int(response)\n",
    "            if minimum <= num <= maximum:\n",
    "                return num\n",
    "        except ValueError:\n",
    "            print('Oops. That was not a whole number.')\n",
    "        print(f'Expected a whole number between {minimum} and {maximum}.')\n",
    "        print('Please try again.')\n",
    "            \n",
    "def get_menu_choice(menu: dict, menu_options: dict) -> str:\n",
    "    print(\"\\n\\nMENU\\n\")\n",
    "    for key, option in menu_options.items():\n",
    "        print(f'{key}: {menu[option][0]}')\n",
    "    while True:\n",
    "        response = input('Option? ').strip().upper()\n",
    "        if response in menu_options.keys():\n",
    "            return menu[menu_options[response]]\n",
    "        print('Sorry. that option is not available')\n",
    "\n",
    "\n",
    "menu = {\n",
    "    \"multiply\": (\"multiplication\", \n",
    "                 operator.mul, '*', 'digit', 'digit', (2, 6), (6. 10)),\n",
    "    \"divide\": (\"division\",\n",
    "               operator.truediv, '/', 'digit', 'digit', (2, 4), (1, 8))\n",
    "        }\n",
    "\n",
    "menu_options = {chr(idx+65): item for idx, item in enumerate(menu.keys())}\n",
    "desc, op, param1_desc, param2_desc, param1, param2 = get_menu_choice(menu, menu_options)\n",
    "total_problems = get_num(f\"How many {desc} problems would you like? \", 1)\n",
    "correct_answers = 0\n",
    "wrong_answers = 0\n",
    "\n",
    "lowest = get_num(f'{param1_desc}', 2, 6)\n",
    "highest = get_num(f'{param2_desc}', 2, 6)\n",
    "\n",
    "\n",
    "total_activities = int(input(\"how many math problems would you like? \"))\n",
    "lowest_number = int(input(\"What should the lowest digit be? \"))\n",
    "highest_number = int(input(\"What should the highest digit be? \"))\n",
    "correct_answers = 0\n",
    "wrong_answers = 0\n",
    "\n",
    "\n",
    "def do_math(op):\n",
    "    problem_number = 1\n",
    "    global correct_answers\n",
    "    global wrong_answers\n",
    "    for problem_number in range(1, total_activities + 1):\n",
    "        a = randint(lowest_number, highest_number)\n",
    "        b = randint(lowest_number, highest_number)\n",
    "        ans = get_num(f\"#{problem_number:_3}: {a} {op} {b} = \", -1000, 1000)\n",
    "\n",
    "        if ans == a * b:\n",
    "            print(\"Good Job\")\n",
    "            correct_answers += 1\n",
    "        else:\n",
    "            print(\"You missed this one\")\n",
    "            wrong_answers += 1\n",
    "\n",
    "        problem_number += 1\n",
    "\n",
    "\n",
    "do_math()\n",
    "print(f\"Total right answers: {correct_answers}. Total wrong answers: {wrong_answers}. You got {correct_answers/total_activities*100}%\")\n",
    "\n",
    "\n",
    "\n",
    "\n",
    "def correct_message():\n",
    "    print(\"Good Job\")\n",
    "    return correct_answers + 1\n",
    "\n",
    "def incorrect_message():\n",
    "    print(\"That was not correct\")\n",
    "    return wrong_answers + 1\n",
    "\n",
    "def div():\n",
    "    problem_number = 1\n",
    "    divisor_list = list(range(low_dividend, high_dividend))\n",
    "    dividend_list = list(range(low_dividend, high_dividend))\n",
    "\n",
    "    while problem_number <= total_problems:\n",
    "\n",
    "        dividend = random.choice(dividend_list)\n",
    "        divisor = random.choice(divisor_list)\n",
    "        problem_start = dividend * divisor\n",
    "        print(f\"#{problem_number}: {problem_start} / {divisor} = \")\n",
    "\n",
    "        ans = int(input(\"what is the answer \"))\n",
    "\n",
    "        if ans == problem_start / divisor:\n",
    "            correct_message()\n",
    "        else:\n",
    "            incorrect_message()\n",
    "\n",
    "        problem_number += 1\n",
    "\n",
    "\n",
    "division()\n",
    "print(f\"Total right answers: {correct_answers}. Total wrong answers: {\n",
    "      wrong_answers}. You got {correct_answers/total_problems*100}%\")\n"
   ],
   "id": "a3376cf2a42347fa",
   "outputs": [
    {
     "ename": "ValueError",
     "evalue": "invalid literal for int() with base 10: ''",
     "output_type": "error",
     "traceback": [
      "\u001B[1;31m---------------------------------------------------------------------------\u001B[0m",
      "\u001B[1;31mValueError\u001B[0m                                Traceback (most recent call last)",
      "Cell \u001B[1;32mIn[11], line 5\u001B[0m\n\u001B[0;32m      1\u001B[0m \u001B[38;5;28;01mimport\u001B[39;00m \u001B[38;5;21;01mrandom\u001B[39;00m\n\u001B[0;32m      2\u001B[0m \u001B[38;5;28;01mimport\u001B[39;00m \u001B[38;5;21;01moperator\u001B[39;00m\n\u001B[1;32m----> 5\u001B[0m total_activities \u001B[38;5;241m=\u001B[39m \u001B[38;5;28;43mint\u001B[39;49m\u001B[43m(\u001B[49m\u001B[38;5;28;43minput\u001B[39;49m\u001B[43m(\u001B[49m\u001B[38;5;124;43m\"\u001B[39;49m\u001B[38;5;124;43mhow many math problems would you like? \u001B[39;49m\u001B[38;5;124;43m\"\u001B[39;49m\u001B[43m)\u001B[49m\u001B[43m)\u001B[49m\n\u001B[0;32m      6\u001B[0m lowest_number \u001B[38;5;241m=\u001B[39m \u001B[38;5;28mint\u001B[39m(\u001B[38;5;28minput\u001B[39m(\u001B[38;5;124m\"\u001B[39m\u001B[38;5;124mWhat should the lowest digit be? \u001B[39m\u001B[38;5;124m\"\u001B[39m))\n\u001B[0;32m      7\u001B[0m highest_number \u001B[38;5;241m=\u001B[39m \u001B[38;5;28mint\u001B[39m(\u001B[38;5;28minput\u001B[39m(\u001B[38;5;124m\"\u001B[39m\u001B[38;5;124mWhat should the highest digit be? \u001B[39m\u001B[38;5;124m\"\u001B[39m))\n",
      "\u001B[1;31mValueError\u001B[0m: invalid literal for int() with base 10: ''"
     ]
    }
   ],
   "execution_count": 11
  },
  {
   "metadata": {
    "ExecuteTime": {
     "end_time": "2024-10-11T15:03:03.385372Z",
     "start_time": "2024-10-11T15:03:03.381508Z"
    }
   },
   "cell_type": "code",
   "source": "ord('A')",
   "id": "76e39a39ffee9ec7",
   "outputs": [
    {
     "data": {
      "text/plain": [
       "65"
      ]
     },
     "execution_count": 9,
     "metadata": {},
     "output_type": "execute_result"
    }
   ],
   "execution_count": 9
  },
  {
   "metadata": {},
   "cell_type": "code",
   "outputs": [],
   "execution_count": null,
   "source": "",
   "id": "e1fe88f5c72de05"
  }
 ],
 "metadata": {
  "kernelspec": {
   "display_name": "Python 3",
   "language": "python",
   "name": "python3"
  },
  "language_info": {
   "codemirror_mode": {
    "name": "ipython",
    "version": 2
   },
   "file_extension": ".py",
   "mimetype": "text/x-python",
   "name": "python",
   "nbconvert_exporter": "python",
   "pygments_lexer": "ipython2",
   "version": "2.7.6"
  }
 },
 "nbformat": 4,
 "nbformat_minor": 5
}
